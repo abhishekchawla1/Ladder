{
 "cells": [
  {
   "cell_type": "code",
   "execution_count": 1,
   "id": "e6812b67",
   "metadata": {},
   "outputs": [],
   "source": [
    "import pandas as pd\n",
    "import numpy as np\n",
    "import matplotlib.pyplot as plt\n",
    "import seaborn as sns\n",
    "from sklearn.neural_network import MLPClassifier"
   ]
  },
  {
   "cell_type": "code",
   "execution_count": 2,
   "id": "dc708c46",
   "metadata": {},
   "outputs": [],
   "source": [
    "df=pd.read_csv(r\"C:\\Users\\ASUS\\Downloads\\train.csv\")"
   ]
  },
  {
   "cell_type": "code",
   "execution_count": 3,
   "id": "f7d93416",
   "metadata": {},
   "outputs": [],
   "source": [
    "from sklearn.preprocessing import LabelEncoder\n",
    "l=LabelEncoder()\n",
    "df['engagement']=l.fit_transform(df['engagement'])"
   ]
  },
  {
   "cell_type": "code",
   "execution_count": 4,
   "id": "a0f06fc1",
   "metadata": {},
   "outputs": [
    {
     "data": {
      "text/html": [
       "<div>\n",
       "<style scoped>\n",
       "    .dataframe tbody tr th:only-of-type {\n",
       "        vertical-align: middle;\n",
       "    }\n",
       "\n",
       "    .dataframe tbody tr th {\n",
       "        vertical-align: top;\n",
       "    }\n",
       "\n",
       "    .dataframe thead th {\n",
       "        text-align: right;\n",
       "    }\n",
       "</style>\n",
       "<table border=\"1\" class=\"dataframe\">\n",
       "  <thead>\n",
       "    <tr style=\"text-align: right;\">\n",
       "      <th></th>\n",
       "      <th>id</th>\n",
       "      <th>title_word_count</th>\n",
       "      <th>document_entropy</th>\n",
       "      <th>freshness</th>\n",
       "      <th>easiness</th>\n",
       "      <th>fraction_stopword_presence</th>\n",
       "      <th>normalization_rate</th>\n",
       "      <th>speaker_speed</th>\n",
       "      <th>silent_period_rate</th>\n",
       "      <th>engagement</th>\n",
       "    </tr>\n",
       "  </thead>\n",
       "  <tbody>\n",
       "    <tr>\n",
       "      <th>0</th>\n",
       "      <td>1</td>\n",
       "      <td>9</td>\n",
       "      <td>7.753995</td>\n",
       "      <td>16310</td>\n",
       "      <td>75.583936</td>\n",
       "      <td>0.553664</td>\n",
       "      <td>0.034049</td>\n",
       "      <td>2.997753</td>\n",
       "      <td>0.000000</td>\n",
       "      <td>1</td>\n",
       "    </tr>\n",
       "    <tr>\n",
       "      <th>1</th>\n",
       "      <td>2</td>\n",
       "      <td>6</td>\n",
       "      <td>8.305269</td>\n",
       "      <td>15410</td>\n",
       "      <td>86.870523</td>\n",
       "      <td>0.584498</td>\n",
       "      <td>0.018763</td>\n",
       "      <td>2.635789</td>\n",
       "      <td>0.000000</td>\n",
       "      <td>0</td>\n",
       "    </tr>\n",
       "    <tr>\n",
       "      <th>2</th>\n",
       "      <td>3</td>\n",
       "      <td>3</td>\n",
       "      <td>7.965583</td>\n",
       "      <td>15680</td>\n",
       "      <td>81.915968</td>\n",
       "      <td>0.605685</td>\n",
       "      <td>0.030720</td>\n",
       "      <td>2.538095</td>\n",
       "      <td>0.000000</td>\n",
       "      <td>0</td>\n",
       "    </tr>\n",
       "    <tr>\n",
       "      <th>3</th>\n",
       "      <td>4</td>\n",
       "      <td>9</td>\n",
       "      <td>8.142877</td>\n",
       "      <td>15610</td>\n",
       "      <td>80.148937</td>\n",
       "      <td>0.593664</td>\n",
       "      <td>0.016873</td>\n",
       "      <td>2.259055</td>\n",
       "      <td>0.000000</td>\n",
       "      <td>0</td>\n",
       "    </tr>\n",
       "    <tr>\n",
       "      <th>4</th>\n",
       "      <td>5</td>\n",
       "      <td>9</td>\n",
       "      <td>8.161250</td>\n",
       "      <td>14920</td>\n",
       "      <td>76.907549</td>\n",
       "      <td>0.581637</td>\n",
       "      <td>0.023412</td>\n",
       "      <td>2.420000</td>\n",
       "      <td>0.000000</td>\n",
       "      <td>0</td>\n",
       "    </tr>\n",
       "    <tr>\n",
       "      <th>...</th>\n",
       "      <td>...</td>\n",
       "      <td>...</td>\n",
       "      <td>...</td>\n",
       "      <td>...</td>\n",
       "      <td>...</td>\n",
       "      <td>...</td>\n",
       "      <td>...</td>\n",
       "      <td>...</td>\n",
       "      <td>...</td>\n",
       "      <td>...</td>\n",
       "    </tr>\n",
       "    <tr>\n",
       "      <th>9234</th>\n",
       "      <td>9235</td>\n",
       "      <td>7</td>\n",
       "      <td>7.820262</td>\n",
       "      <td>14170</td>\n",
       "      <td>82.302473</td>\n",
       "      <td>0.587838</td>\n",
       "      <td>0.027449</td>\n",
       "      <td>2.120000</td>\n",
       "      <td>0.250322</td>\n",
       "      <td>0</td>\n",
       "    </tr>\n",
       "    <tr>\n",
       "      <th>9235</th>\n",
       "      <td>9236</td>\n",
       "      <td>6</td>\n",
       "      <td>8.781639</td>\n",
       "      <td>14410</td>\n",
       "      <td>83.361440</td>\n",
       "      <td>0.588235</td>\n",
       "      <td>0.012465</td>\n",
       "      <td>2.251447</td>\n",
       "      <td>0.000000</td>\n",
       "      <td>0</td>\n",
       "    </tr>\n",
       "    <tr>\n",
       "      <th>9236</th>\n",
       "      <td>9237</td>\n",
       "      <td>5</td>\n",
       "      <td>7.643789</td>\n",
       "      <td>16240</td>\n",
       "      <td>82.425897</td>\n",
       "      <td>0.611600</td>\n",
       "      <td>0.034213</td>\n",
       "      <td>2.728182</td>\n",
       "      <td>0.000000</td>\n",
       "      <td>0</td>\n",
       "    </tr>\n",
       "    <tr>\n",
       "      <th>9237</th>\n",
       "      <td>9238</td>\n",
       "      <td>6</td>\n",
       "      <td>7.985593</td>\n",
       "      <td>14500</td>\n",
       "      <td>87.565381</td>\n",
       "      <td>0.630815</td>\n",
       "      <td>0.020167</td>\n",
       "      <td>2.529861</td>\n",
       "      <td>0.300094</td>\n",
       "      <td>0</td>\n",
       "    </tr>\n",
       "    <tr>\n",
       "      <th>9238</th>\n",
       "      <td>9239</td>\n",
       "      <td>7</td>\n",
       "      <td>6.593383</td>\n",
       "      <td>15900</td>\n",
       "      <td>94.200932</td>\n",
       "      <td>0.647826</td>\n",
       "      <td>0.004348</td>\n",
       "      <td>2.775000</td>\n",
       "      <td>0.049792</td>\n",
       "      <td>1</td>\n",
       "    </tr>\n",
       "  </tbody>\n",
       "</table>\n",
       "<p>9239 rows × 10 columns</p>\n",
       "</div>"
      ],
      "text/plain": [
       "        id  title_word_count  document_entropy  freshness   easiness  \\\n",
       "0        1                 9          7.753995      16310  75.583936   \n",
       "1        2                 6          8.305269      15410  86.870523   \n",
       "2        3                 3          7.965583      15680  81.915968   \n",
       "3        4                 9          8.142877      15610  80.148937   \n",
       "4        5                 9          8.161250      14920  76.907549   \n",
       "...    ...               ...               ...        ...        ...   \n",
       "9234  9235                 7          7.820262      14170  82.302473   \n",
       "9235  9236                 6          8.781639      14410  83.361440   \n",
       "9236  9237                 5          7.643789      16240  82.425897   \n",
       "9237  9238                 6          7.985593      14500  87.565381   \n",
       "9238  9239                 7          6.593383      15900  94.200932   \n",
       "\n",
       "      fraction_stopword_presence  normalization_rate  speaker_speed  \\\n",
       "0                       0.553664            0.034049       2.997753   \n",
       "1                       0.584498            0.018763       2.635789   \n",
       "2                       0.605685            0.030720       2.538095   \n",
       "3                       0.593664            0.016873       2.259055   \n",
       "4                       0.581637            0.023412       2.420000   \n",
       "...                          ...                 ...            ...   \n",
       "9234                    0.587838            0.027449       2.120000   \n",
       "9235                    0.588235            0.012465       2.251447   \n",
       "9236                    0.611600            0.034213       2.728182   \n",
       "9237                    0.630815            0.020167       2.529861   \n",
       "9238                    0.647826            0.004348       2.775000   \n",
       "\n",
       "      silent_period_rate  engagement  \n",
       "0               0.000000           1  \n",
       "1               0.000000           0  \n",
       "2               0.000000           0  \n",
       "3               0.000000           0  \n",
       "4               0.000000           0  \n",
       "...                  ...         ...  \n",
       "9234            0.250322           0  \n",
       "9235            0.000000           0  \n",
       "9236            0.000000           0  \n",
       "9237            0.300094           0  \n",
       "9238            0.049792           1  \n",
       "\n",
       "[9239 rows x 10 columns]"
      ]
     },
     "execution_count": 4,
     "metadata": {},
     "output_type": "execute_result"
    }
   ],
   "source": [
    "df"
   ]
  },
  {
   "cell_type": "code",
   "execution_count": 5,
   "id": "037b584c",
   "metadata": {},
   "outputs": [],
   "source": [
    "X=df.drop(columns=['id','title_word_count','engagement'])"
   ]
  },
  {
   "cell_type": "code",
   "execution_count": 6,
   "id": "1fb7d878",
   "metadata": {},
   "outputs": [],
   "source": [
    "y=df['engagement']"
   ]
  },
  {
   "cell_type": "code",
   "execution_count": 7,
   "id": "63fd61e9",
   "metadata": {},
   "outputs": [],
   "source": [
    "from sklearn.preprocessing import StandardScaler"
   ]
  },
  {
   "cell_type": "code",
   "execution_count": 8,
   "id": "7f8d5d6e",
   "metadata": {},
   "outputs": [],
   "source": [
    "sc=StandardScaler()"
   ]
  },
  {
   "cell_type": "code",
   "execution_count": 9,
   "id": "ebd0c2de",
   "metadata": {},
   "outputs": [],
   "source": [
    "X=sc.fit_transform(X)"
   ]
  },
  {
   "cell_type": "code",
   "execution_count": 10,
   "id": "5428d47b",
   "metadata": {},
   "outputs": [],
   "source": [
    "nn=MLPClassifier()"
   ]
  },
  {
   "cell_type": "code",
   "execution_count": 11,
   "id": "766a3885",
   "metadata": {},
   "outputs": [],
   "source": [
    "from sklearn.model_selection import train_test_split"
   ]
  },
  {
   "cell_type": "code",
   "execution_count": 12,
   "id": "4844396e",
   "metadata": {},
   "outputs": [],
   "source": [
    "X_train,X_test,y_train,y_test=train_test_split(X,y,test_size=0.1,random_state=4)"
   ]
  },
  {
   "cell_type": "code",
   "execution_count": 13,
   "id": "972790b3",
   "metadata": {},
   "outputs": [
    {
     "name": "stderr",
     "output_type": "stream",
     "text": [
      "G:\\anaconda\\lib\\site-packages\\sklearn\\neural_network\\_multilayer_perceptron.py:684: ConvergenceWarning: Stochastic Optimizer: Maximum iterations (200) reached and the optimization hasn't converged yet.\n",
      "  warnings.warn(\n"
     ]
    }
   ],
   "source": [
    "model=nn.fit(X_train,y_train)"
   ]
  },
  {
   "cell_type": "code",
   "execution_count": 24,
   "id": "5a76f341",
   "metadata": {},
   "outputs": [],
   "source": [
    "y_pred=model.predict(X_test)"
   ]
  },
  {
   "cell_type": "code",
   "execution_count": 25,
   "id": "16cc6e2b",
   "metadata": {},
   "outputs": [],
   "source": [
    "from sklearn.metrics import roc_curve,roc_auc_score"
   ]
  },
  {
   "cell_type": "code",
   "execution_count": 26,
   "id": "9ca9f3f3",
   "metadata": {},
   "outputs": [],
   "source": [
    "roc=roc_auc_score(y_test,y_pred)"
   ]
  },
  {
   "cell_type": "code",
   "execution_count": 27,
   "id": "b21afa9d",
   "metadata": {},
   "outputs": [
    {
     "data": {
      "text/plain": [
       "0.7239876021088001"
      ]
     },
     "execution_count": 27,
     "metadata": {},
     "output_type": "execute_result"
    }
   ],
   "source": [
    "roc"
   ]
  },
  {
   "cell_type": "code",
   "execution_count": 43,
   "id": "76e22964",
   "metadata": {},
   "outputs": [
    {
     "data": {
      "image/png": "[encoded data removed]",
      "text/plain": [
       "<Figure size 640x480 with 1 Axes>"
      ]
     },
     "metadata": {},
     "output_type": "display_data"
    }
   ],
   "source": [
    "fpr, tpr, thresholds = roc_curve(y_test, model.predict_proba(X_test)[:,1].reshape(-1,1))\n",
    "plt.plot(fpr, tpr)\n",
    "plt.xlabel('False Positive Rate')\n",
    "plt.ylabel('True Positive Rate')\n",
    "plt.title('Receiver Operating Characteristic (ROC) Curve')\n",
    "plt.show()"
   ]
  }
 ],
 "metadata": {
  "kernelspec": {
   "display_name": "Python 3 (ipykernel)",
   "language": "python",
   "name": "python3"
  },
  "language_info": {
   "codemirror_mode": {
    "name": "ipython",
    "version": 3
   },
   "file_extension": ".py",
   "mimetype": "text/x-python",
   "name": "python",
   "nbconvert_exporter": "python",
   "pygments_lexer": "ipython3",
   "version": "3.10.9"
  }
 },
 "nbformat": 4,
 "nbformat_minor": 5
}
