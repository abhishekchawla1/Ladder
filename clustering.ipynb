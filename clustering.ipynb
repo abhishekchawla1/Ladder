{
 "cells": [
  {
   "cell_type": "code",
   "execution_count": 1,
   "id": "7acb3403",
   "metadata": {},
   "outputs": [],
   "source": [
    "import pandas as pd\n",
    "import numpy as np\n",
    "import matplotlib.pyplot as plt"
   ]
  },
  {
   "cell_type": "code",
   "execution_count": 2,
   "id": "c009df36",
   "metadata": {},
   "outputs": [],
   "source": [
    "df=pd.read_csv(r\"C:\\Users\\ASUS\\Downloads\\cse_cgpa_iq_data.csv\")"
   ]
  },
  {
   "cell_type": "code",
   "execution_count": 3,
   "id": "ea21854c",
   "metadata": {},
   "outputs": [
    {
     "data": {
      "text/html": [
       "<div>\n",
       "<style scoped>\n",
       "    .dataframe tbody tr th:only-of-type {\n",
       "        vertical-align: middle;\n",
       "    }\n",
       "\n",
       "    .dataframe tbody tr th {\n",
       "        vertical-align: top;\n",
       "    }\n",
       "\n",
       "    .dataframe thead th {\n",
       "        text-align: right;\n",
       "    }\n",
       "</style>\n",
       "<table border=\"1\" class=\"dataframe\">\n",
       "  <thead>\n",
       "    <tr style=\"text-align: right;\">\n",
       "      <th></th>\n",
       "      <th>Names</th>\n",
       "      <th>cgpa</th>\n",
       "      <th>iq</th>\n",
       "    </tr>\n",
       "  </thead>\n",
       "  <tbody>\n",
       "    <tr>\n",
       "      <th>0</th>\n",
       "      <td>Mubashra Munir</td>\n",
       "      <td>3.23</td>\n",
       "      <td>120</td>\n",
       "    </tr>\n",
       "    <tr>\n",
       "      <th>1</th>\n",
       "      <td>Muhammad Ahtasham</td>\n",
       "      <td>3.33</td>\n",
       "      <td>113</td>\n",
       "    </tr>\n",
       "    <tr>\n",
       "      <th>2</th>\n",
       "      <td>Khadija Akhtar</td>\n",
       "      <td>3.79</td>\n",
       "      <td>93</td>\n",
       "    </tr>\n",
       "    <tr>\n",
       "      <th>3</th>\n",
       "      <td>Muhammad Zubair</td>\n",
       "      <td>3.05</td>\n",
       "      <td>97</td>\n",
       "    </tr>\n",
       "    <tr>\n",
       "      <th>4</th>\n",
       "      <td>Abeera Mahar</td>\n",
       "      <td>3.43</td>\n",
       "      <td>110</td>\n",
       "    </tr>\n",
       "    <tr>\n",
       "      <th>...</th>\n",
       "      <td>...</td>\n",
       "      <td>...</td>\n",
       "      <td>...</td>\n",
       "    </tr>\n",
       "    <tr>\n",
       "      <th>121</th>\n",
       "      <td>Ali Farooq</td>\n",
       "      <td>2.34</td>\n",
       "      <td>109</td>\n",
       "    </tr>\n",
       "    <tr>\n",
       "      <th>122</th>\n",
       "      <td>Nimra Khursheed</td>\n",
       "      <td>3.01</td>\n",
       "      <td>93</td>\n",
       "    </tr>\n",
       "    <tr>\n",
       "      <th>123</th>\n",
       "      <td>Muzammil Hussain Magsi</td>\n",
       "      <td>2.96</td>\n",
       "      <td>119</td>\n",
       "    </tr>\n",
       "    <tr>\n",
       "      <th>124</th>\n",
       "      <td>syed naseeb</td>\n",
       "      <td>2.74</td>\n",
       "      <td>97</td>\n",
       "    </tr>\n",
       "    <tr>\n",
       "      <th>125</th>\n",
       "      <td>Syed Ameer hamza</td>\n",
       "      <td>2.50</td>\n",
       "      <td>85</td>\n",
       "    </tr>\n",
       "  </tbody>\n",
       "</table>\n",
       "<p>126 rows × 3 columns</p>\n",
       "</div>"
      ],
      "text/plain": [
       "                      Names  cgpa   iq\n",
       "0            Mubashra Munir  3.23  120\n",
       "1         Muhammad Ahtasham  3.33  113\n",
       "2            Khadija Akhtar  3.79   93\n",
       "3           Muhammad Zubair  3.05   97\n",
       "4              Abeera Mahar  3.43  110\n",
       "..                      ...   ...  ...\n",
       "121              Ali Farooq  2.34  109\n",
       "122         Nimra Khursheed  3.01   93\n",
       "123  Muzammil Hussain Magsi  2.96  119\n",
       "124             syed naseeb  2.74   97\n",
       "125        Syed Ameer hamza  2.50   85\n",
       "\n",
       "[126 rows x 3 columns]"
      ]
     },
     "execution_count": 3,
     "metadata": {},
     "output_type": "execute_result"
    }
   ],
   "source": [
    "df"
   ]
  },
  {
   "cell_type": "code",
   "execution_count": 4,
   "id": "00d0e571",
   "metadata": {},
   "outputs": [
    {
     "data": {
      "text/plain": [
       "Names    0\n",
       "cgpa     0\n",
       "iq       0\n",
       "dtype: int64"
      ]
     },
     "execution_count": 4,
     "metadata": {},
     "output_type": "execute_result"
    }
   ],
   "source": [
    "df.isnull().sum()"
   ]
  },
  {
   "cell_type": "code",
   "execution_count": 5,
   "id": "07761730",
   "metadata": {},
   "outputs": [
    {
     "data": {
      "text/plain": [
       "False"
      ]
     },
     "execution_count": 5,
     "metadata": {},
     "output_type": "execute_result"
    }
   ],
   "source": [
    "df.duplicated().any()"
   ]
  },
  {
   "cell_type": "code",
   "execution_count": 6,
   "id": "fec6ef8e",
   "metadata": {},
   "outputs": [
    {
     "data": {
      "text/plain": [
       "<matplotlib.collections.PathCollection at 0x1c7b7b22320>"
      ]
     },
     "execution_count": 6,
     "metadata": {},
     "output_type": "execute_result"
    },
    {
     "data": {
      "image/png": "[encoded data removed]",
      "text/plain": [
       "<Figure size 640x480 with 1 Axes>"
      ]
     },
     "metadata": {},
     "output_type": "display_data"
    }
   ],
   "source": [
    "plt.scatter(df['cgpa'],df['iq'])"
   ]
  },
  {
   "cell_type": "code",
   "execution_count": 8,
   "id": "dfc6082d",
   "metadata": {},
   "outputs": [],
   "source": [
    "from sklearn.cluster import KMeans"
   ]
  },
  {
   "cell_type": "code",
   "execution_count": 9,
   "id": "c007fea7",
   "metadata": {},
   "outputs": [],
   "source": [
    "w=[]"
   ]
  },
  {
   "cell_type": "code",
   "execution_count": 10,
   "id": "3f57bfed",
   "metadata": {},
   "outputs": [
    {
     "name": "stderr",
     "output_type": "stream",
     "text": [
      "G:\\anaconda\\lib\\site-packages\\sklearn\\cluster\\_kmeans.py:870: FutureWarning: The default value of `n_init` will change from 10 to 'auto' in 1.4. Set the value of `n_init` explicitly to suppress the warning\n",
      "  warnings.warn(\n",
      "G:\\anaconda\\lib\\site-packages\\sklearn\\cluster\\_kmeans.py:1382: UserWarning: KMeans is known to have a memory leak on Windows with MKL, when there are less chunks than available threads. You can avoid it by setting the environment variable OMP_NUM_THREADS=1.\n",
      "  warnings.warn(\n",
      "G:\\anaconda\\lib\\site-packages\\sklearn\\cluster\\_kmeans.py:870: FutureWarning: The default value of `n_init` will change from 10 to 'auto' in 1.4. Set the value of `n_init` explicitly to suppress the warning\n",
      "  warnings.warn(\n",
      "G:\\anaconda\\lib\\site-packages\\sklearn\\cluster\\_kmeans.py:1382: UserWarning: KMeans is known to have a memory leak on Windows with MKL, when there are less chunks than available threads. You can avoid it by setting the environment variable OMP_NUM_THREADS=1.\n",
      "  warnings.warn(\n",
      "G:\\anaconda\\lib\\site-packages\\sklearn\\cluster\\_kmeans.py:870: FutureWarning: The default value of `n_init` will change from 10 to 'auto' in 1.4. Set the value of `n_init` explicitly to suppress the warning\n",
      "  warnings.warn(\n",
      "G:\\anaconda\\lib\\site-packages\\sklearn\\cluster\\_kmeans.py:1382: UserWarning: KMeans is known to have a memory leak on Windows with MKL, when there are less chunks than available threads. You can avoid it by setting the environment variable OMP_NUM_THREADS=1.\n",
      "  warnings.warn(\n",
      "G:\\anaconda\\lib\\site-packages\\sklearn\\cluster\\_kmeans.py:870: FutureWarning: The default value of `n_init` will change from 10 to 'auto' in 1.4. Set the value of `n_init` explicitly to suppress the warning\n",
      "  warnings.warn(\n",
      "G:\\anaconda\\lib\\site-packages\\sklearn\\cluster\\_kmeans.py:1382: UserWarning: KMeans is known to have a memory leak on Windows with MKL, when there are less chunks than available threads. You can avoid it by setting the environment variable OMP_NUM_THREADS=1.\n",
      "  warnings.warn(\n",
      "G:\\anaconda\\lib\\site-packages\\sklearn\\cluster\\_kmeans.py:870: FutureWarning: The default value of `n_init` will change from 10 to 'auto' in 1.4. Set the value of `n_init` explicitly to suppress the warning\n",
      "  warnings.warn(\n",
      "G:\\anaconda\\lib\\site-packages\\sklearn\\cluster\\_kmeans.py:1382: UserWarning: KMeans is known to have a memory leak on Windows with MKL, when there are less chunks than available threads. You can avoid it by setting the environment variable OMP_NUM_THREADS=1.\n",
      "  warnings.warn(\n",
      "G:\\anaconda\\lib\\site-packages\\sklearn\\cluster\\_kmeans.py:870: FutureWarning: The default value of `n_init` will change from 10 to 'auto' in 1.4. Set the value of `n_init` explicitly to suppress the warning\n",
      "  warnings.warn(\n",
      "G:\\anaconda\\lib\\site-packages\\sklearn\\cluster\\_kmeans.py:1382: UserWarning: KMeans is known to have a memory leak on Windows with MKL, when there are less chunks than available threads. You can avoid it by setting the environment variable OMP_NUM_THREADS=1.\n",
      "  warnings.warn(\n",
      "G:\\anaconda\\lib\\site-packages\\sklearn\\cluster\\_kmeans.py:870: FutureWarning: The default value of `n_init` will change from 10 to 'auto' in 1.4. Set the value of `n_init` explicitly to suppress the warning\n",
      "  warnings.warn(\n",
      "G:\\anaconda\\lib\\site-packages\\sklearn\\cluster\\_kmeans.py:1382: UserWarning: KMeans is known to have a memory leak on Windows with MKL, when there are less chunks than available threads. You can avoid it by setting the environment variable OMP_NUM_THREADS=1.\n",
      "  warnings.warn(\n",
      "G:\\anaconda\\lib\\site-packages\\sklearn\\cluster\\_kmeans.py:870: FutureWarning: The default value of `n_init` will change from 10 to 'auto' in 1.4. Set the value of `n_init` explicitly to suppress the warning\n",
      "  warnings.warn(\n",
      "G:\\anaconda\\lib\\site-packages\\sklearn\\cluster\\_kmeans.py:1382: UserWarning: KMeans is known to have a memory leak on Windows with MKL, when there are less chunks than available threads. You can avoid it by setting the environment variable OMP_NUM_THREADS=1.\n",
      "  warnings.warn(\n",
      "G:\\anaconda\\lib\\site-packages\\sklearn\\cluster\\_kmeans.py:870: FutureWarning: The default value of `n_init` will change from 10 to 'auto' in 1.4. Set the value of `n_init` explicitly to suppress the warning\n",
      "  warnings.warn(\n",
      "G:\\anaconda\\lib\\site-packages\\sklearn\\cluster\\_kmeans.py:1382: UserWarning: KMeans is known to have a memory leak on Windows with MKL, when there are less chunks than available threads. You can avoid it by setting the environment variable OMP_NUM_THREADS=1.\n",
      "  warnings.warn(\n",
      "G:\\anaconda\\lib\\site-packages\\sklearn\\cluster\\_kmeans.py:870: FutureWarning: The default value of `n_init` will change from 10 to 'auto' in 1.4. Set the value of `n_init` explicitly to suppress the warning\n",
      "  warnings.warn(\n",
      "G:\\anaconda\\lib\\site-packages\\sklearn\\cluster\\_kmeans.py:1382: UserWarning: KMeans is known to have a memory leak on Windows with MKL, when there are less chunks than available threads. You can avoid it by setting the environment variable OMP_NUM_THREADS=1.\n",
      "  warnings.warn(\n"
     ]
    }
   ],
   "source": [
    "for i in range(1,11):\n",
    "    km=KMeans(n_clusters=i)\n",
    "    km.fit_predict(df[['cgpa','iq']])\n",
    "    w.append(km.inertia_)"
   ]
  },
  {
   "cell_type": "code",
   "execution_count": 11,
   "id": "517318e2",
   "metadata": {},
   "outputs": [
    {
     "data": {
      "text/plain": [
       "[20526.49908888889,\n",
       " 3702.3682040322587,\n",
       " 2357.3684684426235,\n",
       " 1405.604777857143,\n",
       " 467.6589278571428,\n",
       " 353.1180589071207,\n",
       " 255.2178468889835,\n",
       " 217.05679276302934,\n",
       " 175.19005425730063,\n",
       " 141.90512893781872]"
      ]
     },
     "execution_count": 11,
     "metadata": {},
     "output_type": "execute_result"
    }
   ],
   "source": [
    "w"
   ]
  },
  {
   "cell_type": "code",
   "execution_count": 12,
   "id": "b0a0ac7a",
   "metadata": {},
   "outputs": [
    {
     "data": {
      "text/plain": [
       "[<matplotlib.lines.Line2D at 0x1c7baa07be0>]"
      ]
     },
     "execution_count": 12,
     "metadata": {},
     "output_type": "execute_result"
    },
    {
     "data": {
      "image/png": "[encoded data removed]",
      "text/plain": [
       "<Figure size 640x480 with 1 Axes>"
      ]
     },
     "metadata": {},
     "output_type": "display_data"
    }
   ],
   "source": [
    "plt.plot(range(1,11),w)"
   ]
  },
  {
   "cell_type": "code",
   "execution_count": 19,
   "id": "050ec733",
   "metadata": {},
   "outputs": [],
   "source": [
    "X=df[['cgpa','iq']].values"
   ]
  },
  {
   "cell_type": "code",
   "execution_count": 20,
   "id": "18101dd0",
   "metadata": {},
   "outputs": [
    {
     "data": {
      "text/plain": [
       "array([[  3.23, 120.  ],\n",
       "       [  3.33, 113.  ],\n",
       "       [  3.79,  93.  ],\n",
       "       [  3.05,  97.  ],\n",
       "       [  3.43, 110.  ],\n",
       "       [  3.53, 109.  ],\n",
       "       [  3.47,  98.  ],\n",
       "       [  3.23, 115.  ],\n",
       "       [  3.61, 110.  ],\n",
       "       [  3.02,  94.  ],\n",
       "       [  2.91,  86.  ],\n",
       "       [  3.35, 110.  ],\n",
       "       [  3.02,  97.  ],\n",
       "       [  2.91,  88.  ],\n",
       "       [  3.3 , 108.  ],\n",
       "       [  2.84,  95.  ],\n",
       "       [  3.35, 111.  ],\n",
       "       [  2.84,  91.  ],\n",
       "       [  3.07, 111.  ],\n",
       "       [  3.33, 113.  ],\n",
       "       [  2.86,  98.  ],\n",
       "       [  3.02,  86.  ],\n",
       "       [  3.25,  92.  ],\n",
       "       [  3.11,  87.  ],\n",
       "       [  2.98,  88.  ],\n",
       "       [  2.69,  98.  ],\n",
       "       [  3.27,  87.  ],\n",
       "       [  2.96, 119.  ],\n",
       "       [  3.06,  94.  ],\n",
       "       [  3.65, 106.  ],\n",
       "       [  3.41, 117.  ],\n",
       "       [  3.11, 112.  ],\n",
       "       [  2.67, 118.  ],\n",
       "       [  2.97, 106.  ],\n",
       "       [  3.33,  96.  ],\n",
       "       [  3.55,  96.  ],\n",
       "       [  3.59, 118.  ],\n",
       "       [  3.56, 108.  ],\n",
       "       [  3.65,  84.  ],\n",
       "       [  3.17, 113.  ],\n",
       "       [  3.01,  85.  ],\n",
       "       [  3.68,  96.  ],\n",
       "       [  3.68,  93.  ],\n",
       "       [  3.4 ,  86.  ],\n",
       "       [  3.81, 116.  ],\n",
       "       [  3.55, 116.  ],\n",
       "       [  3.16,  94.  ],\n",
       "       [  2.89, 108.  ],\n",
       "       [  2.73, 119.  ],\n",
       "       [  2.53, 109.  ],\n",
       "       [  2.96,  83.  ],\n",
       "       [  3.63,  86.  ],\n",
       "       [  3.63, 116.  ],\n",
       "       [  3.75,  96.  ],\n",
       "       [  2.95, 115.  ],\n",
       "       [  3.81, 108.  ],\n",
       "       [  3.15, 111.  ],\n",
       "       [  2.75, 115.  ],\n",
       "       [  2.34,  54.  ],\n",
       "       [  3.51, 117.  ],\n",
       "       [  3.56, 104.  ],\n",
       "       [  3.17,  96.  ],\n",
       "       [  2.17,  95.  ],\n",
       "       [  2.25, 118.  ],\n",
       "       [  3.  ,  87.  ],\n",
       "       [  2.96, 113.  ],\n",
       "       [  2.93,  93.  ],\n",
       "       [  3.34,  85.  ],\n",
       "       [  3.24, 111.  ],\n",
       "       [  3.17,  95.  ],\n",
       "       [  2.88, 109.  ],\n",
       "       [  2.7 , 116.  ],\n",
       "       [  3.  ,  94.  ],\n",
       "       [  2.7 ,  83.  ],\n",
       "       [  3.58, 109.  ],\n",
       "       [  3.75, 118.  ],\n",
       "       [  3.1 , 112.  ],\n",
       "       [  2.41, 117.  ],\n",
       "       [  2.81,  88.  ],\n",
       "       [  2.64,  92.  ],\n",
       "       [  3.21,  91.  ],\n",
       "       [  3.2 , 121.  ],\n",
       "       [  3.2 , 111.  ],\n",
       "       [  2.98,  85.  ],\n",
       "       [  3.3 , 116.  ],\n",
       "       [  3.53,  88.  ],\n",
       "       [  3.41, 117.  ],\n",
       "       [  1.99, 109.  ],\n",
       "       [  3.68, 117.  ],\n",
       "       [  2.71, 108.  ],\n",
       "       [  3.21, 117.  ],\n",
       "       [  3.16, 114.  ],\n",
       "       [  2.37,  92.  ],\n",
       "       [  3.58,  86.  ],\n",
       "       [  2.57,  95.  ],\n",
       "       [  3.01,  94.  ],\n",
       "       [  3.92, 118.  ],\n",
       "       [  2.86,  95.  ],\n",
       "       [  2.73,  91.  ],\n",
       "       [  2.86, 118.  ],\n",
       "       [  2.16, 110.  ],\n",
       "       [  3.65,  86.  ],\n",
       "       [  3.79,  88.  ],\n",
       "       [  3.45, 119.  ],\n",
       "       [  3.05,  89.  ],\n",
       "       [  2.57,  86.  ],\n",
       "       [  2.62,  92.  ],\n",
       "       [  3.13,  90.  ],\n",
       "       [  2.13, 118.  ],\n",
       "       [  3.12, 118.  ],\n",
       "       [  2.7 ,  94.  ],\n",
       "       [  2.2 , 117.  ],\n",
       "       [  2.54, 109.  ],\n",
       "       [  2.11, 111.  ],\n",
       "       [  2.76,  91.  ],\n",
       "       [  3.01, 118.  ],\n",
       "       [  1.78,  95.  ],\n",
       "       [  2.23, 108.  ],\n",
       "       [  2.88, 117.  ],\n",
       "       [  2.73,  87.  ],\n",
       "       [  2.05,  87.  ],\n",
       "       [  2.34, 109.  ],\n",
       "       [  3.01,  93.  ],\n",
       "       [  2.96, 119.  ],\n",
       "       [  2.74,  97.  ],\n",
       "       [  2.5 ,  85.  ]])"
      ]
     },
     "execution_count": 20,
     "metadata": {},
     "output_type": "execute_result"
    }
   ],
   "source": [
    "X"
   ]
  },
  {
   "cell_type": "code",
   "execution_count": 21,
   "id": "96d1856b",
   "metadata": {},
   "outputs": [],
   "source": [
    "km=KMeans(n_clusters=5)"
   ]
  },
  {
   "cell_type": "code",
   "execution_count": 22,
   "id": "dcf2041a",
   "metadata": {},
   "outputs": [
    {
     "name": "stderr",
     "output_type": "stream",
     "text": [
      "G:\\anaconda\\lib\\site-packages\\sklearn\\cluster\\_kmeans.py:870: FutureWarning: The default value of `n_init` will change from 10 to 'auto' in 1.4. Set the value of `n_init` explicitly to suppress the warning\n",
      "  warnings.warn(\n",
      "G:\\anaconda\\lib\\site-packages\\sklearn\\cluster\\_kmeans.py:1382: UserWarning: KMeans is known to have a memory leak on Windows with MKL, when there are less chunks than available threads. You can avoid it by setting the environment variable OMP_NUM_THREADS=1.\n",
      "  warnings.warn(\n"
     ]
    }
   ],
   "source": [
    "y=km.fit_predict(X)"
   ]
  },
  {
   "cell_type": "code",
   "execution_count": 23,
   "id": "c9ff8aaa",
   "metadata": {},
   "outputs": [
    {
     "data": {
      "text/plain": [
       "<matplotlib.collections.PathCollection at 0x1c7bfb14c10>"
      ]
     },
     "execution_count": 23,
     "metadata": {},
     "output_type": "execute_result"
    },
    {
     "data": {
      "image/png": "[encoded data removed]",
      "text/plain": [
       "<Figure size 640x480 with 1 Axes>"
      ]
     },
     "metadata": {},
     "output_type": "display_data"
    }
   ],
   "source": [
    "plt.scatter(X[y==0,0],X[y==0,1],color='blue')\n",
    "plt.scatter(X[y==1,0],X[y==1,1],color='red')\n",
    "plt.scatter(X[y==2,0],X[y==2,1],color='green')\n",
    "plt.scatter(X[y==3,0],X[y==3,1],color='yellow')\n",
    "plt.scatter(X[y==4,0],X[y==4,1],color='orange')"
   ]
  },
  {
   "cell_type": "code",
   "execution_count": 24,
   "id": "019476a6",
   "metadata": {},
   "outputs": [
    {
     "data": {
      "text/plain": [
       "array([3.23, 3.23, 2.96, 3.41, 2.67, 3.59, 3.81, 3.55, 2.73, 3.63, 2.95,\n",
       "       2.75, 3.51, 2.25, 2.7 , 3.75, 2.41, 3.2 , 3.3 , 3.41, 3.68, 3.21,\n",
       "       3.16, 3.92, 2.86, 3.45, 2.13, 3.12, 2.2 , 3.01, 2.88, 2.96])"
      ]
     },
     "execution_count": 24,
     "metadata": {},
     "output_type": "execute_result"
    }
   ],
   "source": [
    "X[y==0,0]"
   ]
  },
  {
   "cell_type": "code",
   "execution_count": 25,
   "id": "6adc08bd",
   "metadata": {},
   "outputs": [],
   "source": [
    "from sklearn.datasets import make_blobs"
   ]
  },
  {
   "cell_type": "code",
   "execution_count": 28,
   "id": "f363a38b",
   "metadata": {},
   "outputs": [],
   "source": [
    "X,y=make_blobs(n_samples=100,cluster_std=[1,1,1,1],centers=[(-5,-5,5),(5,5,-5),(3.5,-2.5,4),(-2.5,2.5,-4)],n_features=3,random_state=5)"
   ]
  },
  {
   "cell_type": "code",
   "execution_count": 29,
   "id": "4df81426",
   "metadata": {},
   "outputs": [
    {
     "data": {
      "text/plain": [
       "array([[ 4.41011056, -1.88215525,  4.49961804],\n",
       "       [ 3.69443738, -2.47175875,  4.93256051],\n",
       "       [ 2.3787124 , -1.02715527,  3.37662776],\n",
       "       [-2.54978868,  2.13145522, -4.19173957],\n",
       "       [ 3.24625914,  5.63029648, -4.50167079],\n",
       "       [ 2.66437818,  3.83272155, -4.54234193],\n",
       "       [ 4.45626186, -3.13851056,  3.85687358],\n",
       "       [-2.54193635,  3.57454278, -5.5008594 ],\n",
       "       [-5.85685315, -5.87187918,  4.57749207],\n",
       "       [ 6.63995407,  7.07361553, -4.29020214],\n",
       "       [-4.00356017, -4.28757873,  5.05914424],\n",
       "       [ 5.73327081, -2.5347021 ,  2.72037682],\n",
       "       [ 6.01813761,  4.15353138, -2.47919237],\n",
       "       [ 3.19899487, -3.61840643,  4.49852362],\n",
       "       [-4.2106336 , -6.87774088,  6.53875615],\n",
       "       [ 4.59248083,  4.18737524, -4.07248379],\n",
       "       [-3.04048196,  3.04617743, -3.28811074],\n",
       "       [-2.08080224,  2.35479981, -3.0361987 ],\n",
       "       [ 3.27581017, -3.53849524,  3.82829095],\n",
       "       [-3.17863526, -5.42703139,  3.83529809],\n",
       "       [ 4.55457001,  4.51787981, -4.50644234],\n",
       "       [-5.57751323, -3.84779523,  4.89283602],\n",
       "       [-2.78749661,  3.21494995, -4.8034526 ],\n",
       "       [-2.73989323, -4.34338053,  5.12480683],\n",
       "       [ 4.33594396, -2.21259635,  3.0044037 ],\n",
       "       [ 3.76761389,  5.72695326, -4.95404478],\n",
       "       [-1.68032008,  3.03163372, -4.34161504],\n",
       "       [ 4.40688947, -2.47578926,  3.76001827],\n",
       "       [-3.70803662, -3.86065702,  5.4944404 ],\n",
       "       [ 3.57807545,  3.2188487 , -5.74790579],\n",
       "       [ 6.45073354,  5.60687032, -5.37562084],\n",
       "       [-2.51735327,  2.37234178, -5.80791662],\n",
       "       [-1.8067463 ,  2.33363939, -2.64688689],\n",
       "       [ 3.96770521, -2.39865521,  3.94064802],\n",
       "       [ 4.51286735,  5.81613236, -5.28143012],\n",
       "       [-1.31425557,  1.78491876, -4.05123853],\n",
       "       [-5.70017904, -3.84860899,  6.85733101],\n",
       "       [-1.80377801,  3.39940546, -2.79162193],\n",
       "       [-4.80233991, -3.66515143,  4.91312439],\n",
       "       [-5.32986996, -6.19276461,  4.79512349],\n",
       "       [ 5.30364847,  4.59100766, -5.75483059],\n",
       "       [ 6.01842113,  6.06135144, -5.71046645],\n",
       "       [-6.51117956, -4.35515249,  4.01939211],\n",
       "       [ 2.79390613, -1.0561189 ,  4.44295626],\n",
       "       [ 4.30717366,  4.40659723, -4.21176206],\n",
       "       [-4.30955123,  2.24448226, -4.69379935],\n",
       "       [-4.89926181, -4.64456153,  5.26961241],\n",
       "       [ 4.40164007,  4.7565803 , -2.91148531],\n",
       "       [-2.87570741,  2.53464388, -3.95492184],\n",
       "       [-5.82412345, -4.43186728,  5.01275832],\n",
       "       [-3.43846771, -5.30585302,  4.52226858],\n",
       "       [-1.87111967,  2.07440787, -2.99679044],\n",
       "       [ 6.46520488,  6.21228341, -5.6346525 ],\n",
       "       [-3.07008965,  3.94295001, -5.24399513],\n",
       "       [ 1.11330226, -1.27782944,  3.18608799],\n",
       "       [-3.43090048,  2.36578301, -3.16740639],\n",
       "       [-3.03810932,  1.2217843 , -4.99276945],\n",
       "       [-5.33633626, -5.10061435,  6.41339802],\n",
       "       [ 4.94432897,  4.11057927, -6.30095145],\n",
       "       [ 5.74715259,  6.46309548, -3.26155119],\n",
       "       [-5.10106761, -5.05230815,  5.24921766],\n",
       "       [ 2.34845575, -3.1105164 ,  2.29611459],\n",
       "       [-1.87380739,  2.96743206, -5.30262143],\n",
       "       [-5.36331088, -4.99671116,  4.89406956],\n",
       "       [ 3.71054246, -2.15349825,  3.43294883],\n",
       "       [ 3.53654264, -3.14635659,  4.54856784],\n",
       "       [-4.20694668, -5.63157163,  4.99380509],\n",
       "       [-1.30284551,  2.42993297, -3.70177288],\n",
       "       [-5.27458336,  3.57862813, -4.87568592],\n",
       "       [-5.9092324 , -5.59163666,  5.18760323],\n",
       "       [ 4.7848122 ,  4.23923969, -5.71116323],\n",
       "       [ 5.34691933,  5.74572695, -4.22309241],\n",
       "       [ 5.50048733,  5.79242262, -4.82923555],\n",
       "       [-3.81093927, -5.07359332,  2.14031203],\n",
       "       [-3.27817761,  2.54894463, -6.02640189],\n",
       "       [ 2.41929805, -2.62253009,  3.1922569 ],\n",
       "       [-1.50603102,  1.00887114, -5.28210748],\n",
       "       [ 2.92678444, -2.25018268,  5.14720208],\n",
       "       [ 4.90216662, -2.03489901,  2.93496738],\n",
       "       [-4.77874588, -6.31077313,  4.31043477],\n",
       "       [ 3.60292598,  5.87265462, -5.20211818],\n",
       "       [ 3.97634618, -2.91417827,  2.73591666],\n",
       "       [-5.35882895, -4.3965284 ,  3.33521147],\n",
       "       [ 4.02469426, -2.84930813,  3.55926154],\n",
       "       [ 4.63159047,  2.75088187, -6.69367504],\n",
       "       [ 6.14150774,  4.49824445, -5.07915136],\n",
       "       [-4.55877251, -5.33087015,  7.43077119],\n",
       "       [ 7.23796561,  3.5187408 , -5.01694532],\n",
       "       [ 3.89042061, -2.19439983,  4.52184949],\n",
       "       [ 3.91367881, -3.01025606,  4.51725935],\n",
       "       [ 3.4003015 ,  5.87715281, -5.09383245],\n",
       "       [ 2.47042651, -3.83628031,  3.38943264],\n",
       "       [ 3.26744378, -1.16484966,  3.55354327],\n",
       "       [-5.25209213, -4.89039016,  6.58248112],\n",
       "       [-3.42862651,  2.46452751, -3.14035405],\n",
       "       [-5.43570392, -4.02782069,  4.75928886],\n",
       "       [-2.67620337,  2.84608347, -4.50631013],\n",
       "       [-1.35657211,  1.9909274 , -3.10499906],\n",
       "       [ 3.71204332, -2.86794457,  6.1114884 ],\n",
       "       [-3.26374689,  2.18686149, -4.60698954]])"
      ]
     },
     "execution_count": 29,
     "metadata": {},
     "output_type": "execute_result"
    }
   ],
   "source": [
    "X"
   ]
  },
  {
   "cell_type": "code",
   "execution_count": 30,
   "id": "4ca92565",
   "metadata": {},
   "outputs": [
    {
     "data": {
      "text/plain": [
       "array([2, 2, 2, 3, 1, 1, 2, 3, 0, 1, 0, 2, 1, 2, 0, 1, 3, 3, 2, 0, 1, 0,\n",
       "       3, 0, 2, 1, 3, 2, 0, 1, 1, 3, 3, 2, 1, 3, 0, 3, 0, 0, 1, 1, 0, 2,\n",
       "       1, 3, 0, 1, 3, 0, 0, 3, 1, 3, 2, 3, 3, 0, 1, 1, 0, 2, 3, 0, 2, 2,\n",
       "       0, 3, 3, 0, 1, 1, 1, 0, 3, 2, 3, 2, 2, 0, 1, 2, 0, 2, 1, 1, 0, 1,\n",
       "       2, 2, 1, 2, 2, 0, 3, 0, 3, 3, 2, 3])"
      ]
     },
     "execution_count": 30,
     "metadata": {},
     "output_type": "execute_result"
    }
   ],
   "source": [
    "y"
   ]
  },
  {
   "cell_type": "code",
   "execution_count": 32,
   "id": "574031c2",
   "metadata": {},
   "outputs": [
    {
     "name": "stderr",
     "output_type": "stream",
     "text": [
      "G:\\anaconda\\lib\\site-packages\\sklearn\\cluster\\_kmeans.py:870: FutureWarning: The default value of `n_init` will change from 10 to 'auto' in 1.4. Set the value of `n_init` explicitly to suppress the warning\n",
      "  warnings.warn(\n",
      "G:\\anaconda\\lib\\site-packages\\sklearn\\cluster\\_kmeans.py:1382: UserWarning: KMeans is known to have a memory leak on Windows with MKL, when there are less chunks than available threads. You can avoid it by setting the environment variable OMP_NUM_THREADS=1.\n",
      "  warnings.warn(\n",
      "G:\\anaconda\\lib\\site-packages\\sklearn\\cluster\\_kmeans.py:870: FutureWarning: The default value of `n_init` will change from 10 to 'auto' in 1.4. Set the value of `n_init` explicitly to suppress the warning\n",
      "  warnings.warn(\n",
      "G:\\anaconda\\lib\\site-packages\\sklearn\\cluster\\_kmeans.py:1382: UserWarning: KMeans is known to have a memory leak on Windows with MKL, when there are less chunks than available threads. You can avoid it by setting the environment variable OMP_NUM_THREADS=1.\n",
      "  warnings.warn(\n",
      "G:\\anaconda\\lib\\site-packages\\sklearn\\cluster\\_kmeans.py:870: FutureWarning: The default value of `n_init` will change from 10 to 'auto' in 1.4. Set the value of `n_init` explicitly to suppress the warning\n",
      "  warnings.warn(\n",
      "G:\\anaconda\\lib\\site-packages\\sklearn\\cluster\\_kmeans.py:1382: UserWarning: KMeans is known to have a memory leak on Windows with MKL, when there are less chunks than available threads. You can avoid it by setting the environment variable OMP_NUM_THREADS=1.\n",
      "  warnings.warn(\n",
      "G:\\anaconda\\lib\\site-packages\\sklearn\\cluster\\_kmeans.py:870: FutureWarning: The default value of `n_init` will change from 10 to 'auto' in 1.4. Set the value of `n_init` explicitly to suppress the warning\n",
      "  warnings.warn(\n",
      "G:\\anaconda\\lib\\site-packages\\sklearn\\cluster\\_kmeans.py:1382: UserWarning: KMeans is known to have a memory leak on Windows with MKL, when there are less chunks than available threads. You can avoid it by setting the environment variable OMP_NUM_THREADS=1.\n",
      "  warnings.warn(\n",
      "G:\\anaconda\\lib\\site-packages\\sklearn\\cluster\\_kmeans.py:870: FutureWarning: The default value of `n_init` will change from 10 to 'auto' in 1.4. Set the value of `n_init` explicitly to suppress the warning\n",
      "  warnings.warn(\n",
      "G:\\anaconda\\lib\\site-packages\\sklearn\\cluster\\_kmeans.py:1382: UserWarning: KMeans is known to have a memory leak on Windows with MKL, when there are less chunks than available threads. You can avoid it by setting the environment variable OMP_NUM_THREADS=1.\n",
      "  warnings.warn(\n",
      "G:\\anaconda\\lib\\site-packages\\sklearn\\cluster\\_kmeans.py:870: FutureWarning: The default value of `n_init` will change from 10 to 'auto' in 1.4. Set the value of `n_init` explicitly to suppress the warning\n",
      "  warnings.warn(\n",
      "G:\\anaconda\\lib\\site-packages\\sklearn\\cluster\\_kmeans.py:1382: UserWarning: KMeans is known to have a memory leak on Windows with MKL, when there are less chunks than available threads. You can avoid it by setting the environment variable OMP_NUM_THREADS=1.\n",
      "  warnings.warn(\n",
      "G:\\anaconda\\lib\\site-packages\\sklearn\\cluster\\_kmeans.py:870: FutureWarning: The default value of `n_init` will change from 10 to 'auto' in 1.4. Set the value of `n_init` explicitly to suppress the warning\n",
      "  warnings.warn(\n",
      "G:\\anaconda\\lib\\site-packages\\sklearn\\cluster\\_kmeans.py:1382: UserWarning: KMeans is known to have a memory leak on Windows with MKL, when there are less chunks than available threads. You can avoid it by setting the environment variable OMP_NUM_THREADS=1.\n",
      "  warnings.warn(\n",
      "G:\\anaconda\\lib\\site-packages\\sklearn\\cluster\\_kmeans.py:870: FutureWarning: The default value of `n_init` will change from 10 to 'auto' in 1.4. Set the value of `n_init` explicitly to suppress the warning\n",
      "  warnings.warn(\n",
      "G:\\anaconda\\lib\\site-packages\\sklearn\\cluster\\_kmeans.py:1382: UserWarning: KMeans is known to have a memory leak on Windows with MKL, when there are less chunks than available threads. You can avoid it by setting the environment variable OMP_NUM_THREADS=1.\n",
      "  warnings.warn(\n",
      "G:\\anaconda\\lib\\site-packages\\sklearn\\cluster\\_kmeans.py:870: FutureWarning: The default value of `n_init` will change from 10 to 'auto' in 1.4. Set the value of `n_init` explicitly to suppress the warning\n",
      "  warnings.warn(\n",
      "G:\\anaconda\\lib\\site-packages\\sklearn\\cluster\\_kmeans.py:1382: UserWarning: KMeans is known to have a memory leak on Windows with MKL, when there are less chunks than available threads. You can avoid it by setting the environment variable OMP_NUM_THREADS=1.\n",
      "  warnings.warn(\n",
      "G:\\anaconda\\lib\\site-packages\\sklearn\\cluster\\_kmeans.py:870: FutureWarning: The default value of `n_init` will change from 10 to 'auto' in 1.4. Set the value of `n_init` explicitly to suppress the warning\n",
      "  warnings.warn(\n",
      "G:\\anaconda\\lib\\site-packages\\sklearn\\cluster\\_kmeans.py:1382: UserWarning: KMeans is known to have a memory leak on Windows with MKL, when there are less chunks than available threads. You can avoid it by setting the environment variable OMP_NUM_THREADS=1.\n",
      "  warnings.warn(\n"
     ]
    }
   ],
   "source": [
    "wc=[]\n",
    "for i in range(1,11):\n",
    "    km=KMeans(n_clusters=i)\n",
    "    km.fit_predict(X)\n",
    "    wc.append(km.inertia_)\n",
    "    "
   ]
  },
  {
   "cell_type": "code",
   "execution_count": 33,
   "id": "98b9cb01",
   "metadata": {},
   "outputs": [
    {
     "data": {
      "text/plain": [
       "[<matplotlib.lines.Line2D at 0x1c7b4cfe8c0>]"
      ]
     },
     "execution_count": 33,
     "metadata": {},
     "output_type": "execute_result"
    },
    {
     "data": {
      "image/png": "[encoded data removed]",
      "text/plain": [
       "<Figure size 640x480 with 1 Axes>"
      ]
     },
     "metadata": {},
     "output_type": "display_data"
    }
   ],
   "source": [
    "plt.plot(range(1,11),wc)"
   ]
  },
  {
   "cell_type": "code",
   "execution_count": 35,
   "id": "da9270d2",
   "metadata": {},
   "outputs": [
    {
     "name": "stderr",
     "output_type": "stream",
     "text": [
      "G:\\anaconda\\lib\\site-packages\\sklearn\\cluster\\_kmeans.py:870: FutureWarning: The default value of `n_init` will change from 10 to 'auto' in 1.4. Set the value of `n_init` explicitly to suppress the warning\n",
      "  warnings.warn(\n",
      "G:\\anaconda\\lib\\site-packages\\sklearn\\cluster\\_kmeans.py:1382: UserWarning: KMeans is known to have a memory leak on Windows with MKL, when there are less chunks than available threads. You can avoid it by setting the environment variable OMP_NUM_THREADS=1.\n",
      "  warnings.warn(\n"
     ]
    }
   ],
   "source": [
    "km=KMeans(n_clusters=4)\n",
    "y_pred=km.fit_predict(X)\n",
    "df=pd.DataFrame()\n",
    "df['col1']=X[:,0]\n",
    "df['col2']=X[:,1]\n",
    "df['col3']=X[:,2]\n",
    "df['label']=y_pred"
   ]
  },
  {
   "cell_type": "code",
   "execution_count": 36,
   "id": "b2f3e1d8",
   "metadata": {},
   "outputs": [
    {
     "data": {
      "text/html": [
       "<div>\n",
       "<style scoped>\n",
       "    .dataframe tbody tr th:only-of-type {\n",
       "        vertical-align: middle;\n",
       "    }\n",
       "\n",
       "    .dataframe tbody tr th {\n",
       "        vertical-align: top;\n",
       "    }\n",
       "\n",
       "    .dataframe thead th {\n",
       "        text-align: right;\n",
       "    }\n",
       "</style>\n",
       "<table border=\"1\" class=\"dataframe\">\n",
       "  <thead>\n",
       "    <tr style=\"text-align: right;\">\n",
       "      <th></th>\n",
       "      <th>col1</th>\n",
       "      <th>col2</th>\n",
       "      <th>col3</th>\n",
       "      <th>label</th>\n",
       "    </tr>\n",
       "  </thead>\n",
       "  <tbody>\n",
       "    <tr>\n",
       "      <th>0</th>\n",
       "      <td>4.410111</td>\n",
       "      <td>-1.882155</td>\n",
       "      <td>4.499618</td>\n",
       "      <td>0</td>\n",
       "    </tr>\n",
       "    <tr>\n",
       "      <th>1</th>\n",
       "      <td>3.694437</td>\n",
       "      <td>-2.471759</td>\n",
       "      <td>4.932561</td>\n",
       "      <td>0</td>\n",
       "    </tr>\n",
       "    <tr>\n",
       "      <th>2</th>\n",
       "      <td>2.378712</td>\n",
       "      <td>-1.027155</td>\n",
       "      <td>3.376628</td>\n",
       "      <td>0</td>\n",
       "    </tr>\n",
       "    <tr>\n",
       "      <th>3</th>\n",
       "      <td>-2.549789</td>\n",
       "      <td>2.131455</td>\n",
       "      <td>-4.191740</td>\n",
       "      <td>1</td>\n",
       "    </tr>\n",
       "    <tr>\n",
       "      <th>4</th>\n",
       "      <td>3.246259</td>\n",
       "      <td>5.630296</td>\n",
       "      <td>-4.501671</td>\n",
       "      <td>3</td>\n",
       "    </tr>\n",
       "    <tr>\n",
       "      <th>...</th>\n",
       "      <td>...</td>\n",
       "      <td>...</td>\n",
       "      <td>...</td>\n",
       "      <td>...</td>\n",
       "    </tr>\n",
       "    <tr>\n",
       "      <th>95</th>\n",
       "      <td>-5.435704</td>\n",
       "      <td>-4.027821</td>\n",
       "      <td>4.759289</td>\n",
       "      <td>2</td>\n",
       "    </tr>\n",
       "    <tr>\n",
       "      <th>96</th>\n",
       "      <td>-2.676203</td>\n",
       "      <td>2.846083</td>\n",
       "      <td>-4.506310</td>\n",
       "      <td>1</td>\n",
       "    </tr>\n",
       "    <tr>\n",
       "      <th>97</th>\n",
       "      <td>-1.356572</td>\n",
       "      <td>1.990927</td>\n",
       "      <td>-3.104999</td>\n",
       "      <td>1</td>\n",
       "    </tr>\n",
       "    <tr>\n",
       "      <th>98</th>\n",
       "      <td>3.712043</td>\n",
       "      <td>-2.867945</td>\n",
       "      <td>6.111488</td>\n",
       "      <td>0</td>\n",
       "    </tr>\n",
       "    <tr>\n",
       "      <th>99</th>\n",
       "      <td>-3.263747</td>\n",
       "      <td>2.186861</td>\n",
       "      <td>-4.606990</td>\n",
       "      <td>1</td>\n",
       "    </tr>\n",
       "  </tbody>\n",
       "</table>\n",
       "<p>100 rows × 4 columns</p>\n",
       "</div>"
      ],
      "text/plain": [
       "        col1      col2      col3  label\n",
       "0   4.410111 -1.882155  4.499618      0\n",
       "1   3.694437 -2.471759  4.932561      0\n",
       "2   2.378712 -1.027155  3.376628      0\n",
       "3  -2.549789  2.131455 -4.191740      1\n",
       "4   3.246259  5.630296 -4.501671      3\n",
       "..       ...       ...       ...    ...\n",
       "95 -5.435704 -4.027821  4.759289      2\n",
       "96 -2.676203  2.846083 -4.506310      1\n",
       "97 -1.356572  1.990927 -3.104999      1\n",
       "98  3.712043 -2.867945  6.111488      0\n",
       "99 -3.263747  2.186861 -4.606990      1\n",
       "\n",
       "[100 rows x 4 columns]"
      ]
     },
     "execution_count": 36,
     "metadata": {},
     "output_type": "execute_result"
    }
   ],
   "source": [
    "df"
   ]
  },
  {
   "cell_type": "code",
   "execution_count": 46,
   "id": "b6e2ff79",
   "metadata": {},
   "outputs": [
    {
     "data": {
      "text/plain": [
       "<mpl_toolkits.mplot3d.art3d.Path3DCollection at 0x1c7c1df2fe0>"
      ]
     },
     "execution_count": 46,
     "metadata": {},
     "output_type": "execute_result"
    },
    {
     "data": {
      "image/png": "[encoded data removed]",
      "text/plain": [
       "<Figure size 640x480 with 1 Axes>"
      ]
     },
     "metadata": {},
     "output_type": "display_data"
    }
   ],
   "source": [
    "a=df[df['label']==0]\n",
    "b=df[df['label']==1]\n",
    "c=df[df['label']==2]\n",
    "d=df[df['label']==3]\n",
    "fig=plt.figure()\n",
    "ax=fig.add_subplot(111,projection='3d')\n",
    "ax.scatter(a['col1'],a['col2'],a['col3'],color='red')\n",
    "ax.scatter(b['col1'],b['col2'],b['col3'],color='blue')\n",
    "ax.scatter(c['col1'],c['col2'],c['col3'],color='green')\n",
    "ax.scatter(d['col1'],d['col2'],d['col3'],color='yellow')"
   ]
  },
  {
   "cell_type": "code",
   "execution_count": null,
   "id": "dc2e0a62",
   "metadata": {},
   "outputs": [],
   "source": []
  }
 ],
 "metadata": {
  "kernelspec": {
   "display_name": "Python 3 (ipykernel)",
   "language": "python",
   "name": "python3"
  },
  "language_info": {
   "codemirror_mode": {
    "name": "ipython",
    "version": 3
   },
   "file_extension": ".py",
   "mimetype": "text/x-python",
   "name": "python",
   "nbconvert_exporter": "python",
   "pygments_lexer": "ipython3",
   "version": "3.10.9"
  }
 },
 "nbformat": 4,
 "nbformat_minor": 5
}
